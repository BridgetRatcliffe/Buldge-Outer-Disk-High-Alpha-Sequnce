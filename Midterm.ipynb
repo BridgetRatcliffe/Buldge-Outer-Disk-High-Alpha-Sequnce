{
 "cells": [
  {
   "cell_type": "code",
   "execution_count": 104,
   "metadata": {},
   "outputs": [],
   "source": [
    "from astropy.io import fits\n",
    "from astropy.utils.data import download_file\n",
    "from astropy.table import Table\n",
    "import matplotlib.pyplot as plt\n",
    "import pandas as pd\n",
    "import numpy as np\n",
    "import pickle"
   ]
  },
  {
   "cell_type": "code",
   "execution_count": 102,
   "metadata": {},
   "outputs": [],
   "source": [
    "image_file = download_file('https://data.sdss.org/sas/dr16/apogee/spectro/aspcap/r12/l33/allStar-r12-l33.fits', cache=True )\n",
    "Apogee16 = Table.read(image_file, hdu=1)\n",
    "\n",
    "horse_file = download_file('https://data.sdss.org/sas/dr16/apogee/vac/apogee-starhorse/apogee_starhorse-DR16.fits', cache=True)\n",
    "hdu_list = fits.open(horse_file)\n",
    "StarHorse = hdu_list[1].data"
   ]
  },
  {
   "cell_type": "markdown",
   "metadata": {},
   "source": [
    "# Data Cleaning\n",
    "## Crossmatching Starhorse and Apogee dr16"
   ]
  },
  {
   "cell_type": "code",
   "execution_count": 225,
   "metadata": {},
   "outputs": [
    {
     "name": "stdout",
     "output_type": "stream",
     "text": [
      "0.0\n",
      "0.10563967995402561\n",
      "0.21127935990805122\n",
      "0.3169190398620768\n",
      "0.42255871981610243\n",
      "0.5281983997701281\n",
      "0.6338380797241536\n",
      "0.7394777596781793\n",
      "0.8451174396322049\n",
      "0.9507571195862305\n"
     ]
    }
   ],
   "source": [
    "i = 0\n",
    "\n",
    "distance05 = []\n",
    "distance50 = []\n",
    "distance95 = []\n",
    "\n",
    "for star in Apogee16['APOGEE_ID']:\n",
    "    if i % 50000 == 0: \n",
    "        print(i / len(Apogee16['APOGEE_ID']))\n",
    "    if star in StarHorse['APOGEE_ID']:\n",
    "        distance05.append(StarHorse['dist05'][StarHorse['APOGEE_ID'] == star][0])\n",
    "        distance50.append(StarHorse['dist50'][StarHorse['APOGEE_ID'] == star][0])\n",
    "        distance95.append(StarHorse['dist95'][StarHorse['APOGEE_ID'] == star][0])\n",
    "    else: \n",
    "        distance05.append(-9999)\n",
    "        distance50.append(-9999)\n",
    "        distance95.append(-9999)\n",
    "        \n",
    "    i+=1\n",
    "    \n",
    "Apogee16['distance05'] = distance05\n",
    "Apogee16['distance50'] = distance50\n",
    "Apogee16['distance95'] = distance95"
   ]
  },
  {
   "cell_type": "code",
   "execution_count": null,
   "metadata": {},
   "outputs": [],
   "source": [
    "pickle.dump(Apogee16,open(\"Apogee_horse.pickle\", \"wb\"))"
   ]
  },
  {
   "cell_type": "markdown",
   "metadata": {},
   "source": [
    "## Choosing elements and removing bad values"
   ]
  },
  {
   "cell_type": "code",
   "execution_count": 226,
   "metadata": {},
   "outputs": [
    {
     "name": "stdout",
     "output_type": "stream",
     "text": [
      "C_FE: 0.13226087930244007\n",
      "CI_FE: 0.13461241857821668\n",
      "N_FE: 0.17181660106442542\n",
      "O_FE: 0.35604586452344883\n",
      "NA_FE: 0.46301026606409795\n",
      "MG_FE: 0.12841559495211352\n",
      "AL_FE: 0.1358864331184622\n",
      "SI_FE: 0.12824868425778618\n",
      "P_FE: 0.4335642616737128\n",
      "S_FE: 0.19639472900252902\n",
      "K_FE: 0.25818760339483676\n",
      "CA_FE: 0.13140308510121337\n",
      "TI_FE: 0.3738736169124902\n",
      "TIII_FE: 0.46105381919134936\n",
      "V_FE: 0.5381919134937789\n",
      "CR_FE: 0.19340090047263192\n",
      "MN_FE: 0.25372115772638054\n",
      "FE_H: 0.12816628530742202\n",
      "CO_FE: 0.20996520228942314\n",
      "NI_FE: 0.12872828840477746\n",
      "CU_FE: 0.2601905317267651\n",
      "GE_FE: 1.0\n",
      "RB_FE: 1.0\n",
      "CE_FE: 0.5889686820604808\n",
      "ND_FE: 1.0\n",
      "YB_FE: 1.0\n"
     ]
    }
   ],
   "source": [
    "elements = ['C_FE', 'CI_FE', 'N_FE', 'O_FE', 'NA_FE', 'MG_FE', 'AL_FE', 'SI_FE', 'P_FE', 'S_FE', 'K_FE', 'CA_FE',\n",
    "            'TI_FE', 'TIII_FE', 'V_FE', 'CR_FE', 'MN_FE', 'FE_H', 'CO_FE', 'NI_FE', 'CU_FE', 'GE_FE', 'RB_FE',\n",
    "            'CE_FE', 'ND_FE', 'YB_FE']\n",
    "\n",
    "for e in elements: \n",
    "    print(e + \": \"+ str(sum(Apogee16[e] < -900)/len(Apogee16)))\n",
    "    \n",
    "# choose elements that have at least 50% good values\n",
    "elements_used = ['C_FE', 'CI_FE', 'N_FE', 'O_FE', 'NA_FE', 'MG_FE', 'AL_FE', 'SI_FE', 'P_FE', 'S_FE', 'K_FE', \n",
    "                 'CA_FE', 'TI_FE', 'TIII_FE', 'CR_FE', 'MN_FE', 'FE_H', 'CO_FE', 'NI_FE', 'CU_FE']\n",
    "\n",
    "good_inds = (Apogee16['distance05']>-900) & (Apogee16['distance50']>-900) & (Apogee16['distance95']>-900)\n",
    "for e in elements_used: \n",
    "    good_inds = good_inds & (Apogee16[e]>-900)\n",
    "    \n",
    "data = Apogee16[good_inds]"
   ]
  },
  {
   "cell_type": "markdown",
   "metadata": {},
   "source": [
    "## Removing duplicate stars"
   ]
  },
  {
   "cell_type": "code",
   "execution_count": 227,
   "metadata": {},
   "outputs": [],
   "source": [
    "import collections\n",
    "\n",
    "counter_dict = collections.Counter(data['APOGEE_ID'])\n",
    "apogee_ids = counter_dict.keys() \n",
    "\n",
    "c = 0 \n",
    "removers = []\n",
    "\n",
    "for star_id in apogee_ids:\n",
    "    if counter_dict[star_id] > 1: \n",
    "        where_star = np.where(data['APOGEE_ID'] == star_id)\n",
    "        total_var = []\n",
    "        for s in range(len(where_star[0])):\n",
    "            var_star = 0\n",
    "            for e in elements_used: \n",
    "                var_star += data[e + '_ERR'][where_star[0][s]]**2\n",
    "            total_var.append(var_star)\n",
    "        c += 1\n",
    "        removers.append(where_star[0][np.argmax(total_var)])\n",
    "        \n",
    "data.remove_rows(removers)"
   ]
  },
  {
   "cell_type": "code",
   "execution_count": 203,
   "metadata": {},
   "outputs": [],
   "source": [
    "pickle.dump(data,open(\"apogee_clean.pickle\", \"wb\"))"
   ]
  },
  {
   "cell_type": "markdown",
   "metadata": {},
   "source": [
    "# Analysis"
   ]
  },
  {
   "cell_type": "code",
   "execution_count": 204,
   "metadata": {},
   "outputs": [],
   "source": [
    "apogee16 = pickle.load(open(\"apogee_clean.pickle\", \"rb\"))"
   ]
  },
  {
   "cell_type": "code",
   "execution_count": 228,
   "metadata": {},
   "outputs": [
    {
     "data": {
      "text/plain": [
       "<matplotlib.collections.PathCollection at 0x4947e1278>"
      ]
     },
     "execution_count": 228,
     "metadata": {},
     "output_type": "execute_result"
    },
    {
     "data": {
      "image/png": "[encoded data removed]",
      "text/plain": [
       "<Figure size 432x288 with 1 Axes>"
      ]
     },
     "metadata": {
      "needs_background": "light"
     },
     "output_type": "display_data"
    }
   ],
   "source": [
    "plt.scatter(apogee16['FE_H'], apogee16['MG_FE'], alpha=0.025, s=1, color='black')"
   ]
  },
  {
   "cell_type": "code",
   "execution_count": null,
   "metadata": {},
   "outputs": [],
   "source": []
  }
 ],
 "metadata": {
  "kernelspec": {
   "display_name": "Python 3",
   "language": "python",
   "name": "python3"
  },
  "language_info": {
   "codemirror_mode": {
    "name": "ipython",
    "version": 3
   },
   "file_extension": ".py",
   "mimetype": "text/x-python",
   "name": "python",
   "nbconvert_exporter": "python",
   "pygments_lexer": "ipython3",
   "version": "3.7.3"
  }
 },
 "nbformat": 4,
 "nbformat_minor": 2
}
